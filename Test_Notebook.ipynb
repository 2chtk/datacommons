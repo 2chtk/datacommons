{
  "nbformat": 4,
  "nbformat_minor": 0,
  "metadata": {
    "colab": {
      "name": "Test Notebook.ipynb",
      "version": "0.3.2",
      "provenance": [],
      "include_colab_link": true
    }
  },
  "cells": [
    {
      "cell_type": "markdown",
      "metadata": {
        "id": "view-in-github",
        "colab_type": "text"
      },
      "source": [
        "[View in Colaboratory](https://colab.research.google.com/github/google/datacommons/blob/dev/Test_Notebook.ipynb)"
      ]
    },
    {
      "metadata": {
        "id": "fGaiwgklFYB6",
        "colab_type": "code",
        "colab": {}
      },
      "cell_type": "code",
      "source": [
        ""
      ],
      "execution_count": 0,
      "outputs": []
    },
    {
      "metadata": {
        "id": "I2C7XnMKmZex",
        "colab_type": "code",
        "colab": {
          "base_uri": "https://localhost:8080/",
          "height": 377
        },
        "outputId": "17779ab9-e31d-4d0c-f547-b9bda193c231"
      },
      "cell_type": "code",
      "source": [
        "# Pip install the DataCommons library\n",
        "!pip install git+https://github.com/google/datacommons.git@dev"
      ],
      "execution_count": 1,
      "outputs": [
        {
          "output_type": "stream",
          "text": [
            "Collecting git+https://github.com/google/datacommons.git@dev\n",
            "  Cloning https://github.com/google/datacommons.git (to revision dev) to /tmp/pip-req-build-jXpCZB\n",
            "Requirement already satisfied: numpy in /usr/local/lib/python2.7/dist-packages (from datacommons==0.1) (1.14.6)\n",
            "Requirement already satisfied: pandas in /usr/local/lib/python2.7/dist-packages (from datacommons==0.1) (0.22.0)\n",
            "Requirement already satisfied: google-api-python-client in /usr/local/lib/python2.7/dist-packages (from datacommons==0.1) (1.6.7)\n",
            "Requirement already satisfied: oauth2client in /usr/local/lib/python2.7/dist-packages (from datacommons==0.1) (4.1.3)\n",
            "Requirement already satisfied: pytz>=2011k in /usr/local/lib/python2.7/dist-packages (from pandas->datacommons==0.1) (2018.5)\n",
            "Requirement already satisfied: python-dateutil in /usr/local/lib/python2.7/dist-packages (from pandas->datacommons==0.1) (2.5.3)\n",
            "Requirement already satisfied: six<2dev,>=1.6.1 in /usr/local/lib/python2.7/dist-packages (from google-api-python-client->datacommons==0.1) (1.11.0)\n",
            "Requirement already satisfied: httplib2<1dev,>=0.9.2 in /usr/local/lib/python2.7/dist-packages (from google-api-python-client->datacommons==0.1) (0.11.3)\n",
            "Requirement already satisfied: uritemplate<4dev,>=3.0.0 in /usr/local/lib/python2.7/dist-packages (from google-api-python-client->datacommons==0.1) (3.0.0)\n",
            "Requirement already satisfied: rsa>=3.1.4 in /usr/local/lib/python2.7/dist-packages (from oauth2client->datacommons==0.1) (4.0)\n",
            "Requirement already satisfied: pyasn1>=0.1.7 in /usr/local/lib/python2.7/dist-packages (from oauth2client->datacommons==0.1) (0.4.4)\n",
            "Requirement already satisfied: pyasn1-modules>=0.0.5 in /usr/local/lib/python2.7/dist-packages (from oauth2client->datacommons==0.1) (0.2.2)\n",
            "Building wheels for collected packages: datacommons\n",
            "  Running setup.py bdist_wheel for datacommons ... \u001b[?25l-\b \bdone\n",
            "\u001b[?25h  Stored in directory: /tmp/pip-ephem-wheel-cache-WbCjiS/wheels/5a/9c/0b/33ef12187553f88bb5f0acdb3ecd1b4fa6f4fd1ca8fb5390bd\n",
            "Successfully built datacommons\n",
            "Installing collected packages: datacommons\n",
            "Successfully installed datacommons-0.1\n"
          ],
          "name": "stdout"
        }
      ]
    },
    {
      "metadata": {
        "id": "EGOTr9NtF0wo",
        "colab_type": "code",
        "colab": {
          "base_uri": "https://localhost:8080/",
          "height": 199
        },
        "outputId": "ba4442f5-ac8a-48ac-9fb7-e02f8b5d37ef"
      },
      "cell_type": "code",
      "source": [
        "# Import all required libraries\n",
        "import pandas as pd\n",
        "import datacommons\n",
        "\n",
        "# Create the DataCommons client\n",
        "dc = datacommons.Client()"
      ],
      "execution_count": 2,
      "outputs": [
        {
          "output_type": "stream",
          "text": [
            "/usr/local/lib/python2.7/dist-packages/oauth2client/_helpers.py:255: UserWarning: Cannot access datacommons_381568890662-ff9evnle0lj0oqttr67p2h6882d9ensr.apps.googleusercontent.com.dat: No such file or directory\n",
            "  warnings.warn(_MISSING_FILE_MESSAGE.format(filename))\n"
          ],
          "name": "stderr"
        },
        {
          "output_type": "stream",
          "text": [
            "\n",
            "Go to the following link in your browser:\n",
            "\n",
            "    https://accounts.google.com/o/oauth2/v2/auth?redirect_uri=urn%3Aietf%3Awg%3Aoauth%3A2.0%3Aoob&response_type=code&client_id=381568890662-ff9evnle0lj0oqttr67p2h6882d9ensr.apps.googleusercontent.com&oauth_displayname=DataCommons+Python+Client&scope=https%3A%2F%2Fwww.googleapis.com%2Fauth%2Fuserinfo.email&access_type=offline\n",
            "\n",
            "Enter verification code: 4/bQBYwyQSUV6PVXIpP3bfkBDMViV1FwvUbfeL8SO7jhUJvY9Zc301OSs\n",
            "Authentication successful.\n"
          ],
          "name": "stdout"
        }
      ]
    },
    {
      "metadata": {
        "id": "eGKUBd_qGFOA",
        "colab_type": "code",
        "colab": {
          "base_uri": "https://localhost:8080/",
          "height": 173
        },
        "outputId": "8388b4c8-42ed-48df-ce21-0859bd6aecfc"
      },
      "cell_type": "code",
      "source": [
        "state_table = dc.get_states('United States', 'state', max_rows=100)\n",
        "state_table[:4]"
      ],
      "execution_count": 3,
      "outputs": [
        {
          "output_type": "execute_result",
          "data": {
            "text/html": [
              "<div>\n",
              "<style scoped>\n",
              "    .dataframe tbody tr th:only-of-type {\n",
              "        vertical-align: middle;\n",
              "    }\n",
              "\n",
              "    .dataframe tbody tr th {\n",
              "        vertical-align: top;\n",
              "    }\n",
              "\n",
              "    .dataframe thead th {\n",
              "        text-align: right;\n",
              "    }\n",
              "</style>\n",
              "<table border=\"1\" class=\"dataframe\">\n",
              "  <thead>\n",
              "    <tr style=\"text-align: right;\">\n",
              "      <th></th>\n",
              "      <th>state</th>\n",
              "    </tr>\n",
              "  </thead>\n",
              "  <tbody>\n",
              "    <tr>\n",
              "      <th>0</th>\n",
              "      <td>State</td>\n",
              "    </tr>\n",
              "    <tr>\n",
              "      <th>1</th>\n",
              "      <td>dc/11lqrr2</td>\n",
              "    </tr>\n",
              "    <tr>\n",
              "      <th>2</th>\n",
              "      <td>dc/1c9wee1</td>\n",
              "    </tr>\n",
              "    <tr>\n",
              "      <th>3</th>\n",
              "      <td>dc/1hbcpn</td>\n",
              "    </tr>\n",
              "  </tbody>\n",
              "</table>\n",
              "</div>"
            ],
            "text/plain": [
              "        state\n",
              "0       State\n",
              "1  dc/11lqrr2\n",
              "2  dc/1c9wee1\n",
              "3   dc/1hbcpn"
            ]
          },
          "metadata": {
            "tags": []
          },
          "execution_count": 3
        }
      ]
    }
  ]
}